{
  "nbformat": 4,
  "nbformat_minor": 2,
  "metadata": {
    "kernelspec": {
      "name": "synapse_pyspark",
      "display_name": "Synapse PySpark"
    },
    "language_info": {
      "name": "python"
    },
    "description": null,
    "save_output": true,
    "synapse_widget": {
      "version": "0.1",
      "state": {}
    }
  },
  "cells": [
    {
      "cell_type": "markdown",
      "metadata": {
        "nteract": {
          "transient": {
            "deleting": false
          }
        }
      },
      "source": [
        "# **Read  the on-premises Interaction data and make it available as an Apache Spark Dataframe**"
      ]
    },
    {
      "cell_type": "code",
      "execution_count": 6,
      "outputs": [
        {
          "output_type": "display_data",
          "data": {
            "application/vnd.livy.statement-meta+json": {
              "spark_pool": "SparkPool1",
              "session_id": "0",
              "statement_id": 9,
              "state": "finished",
              "livy_statement_state": "available",
              "queued_time": "2022-09-06T14:08:46.7943232Z",
              "session_start_time": null,
              "execution_start_time": "2022-09-06T14:08:47.2590806Z",
              "execution_finish_time": "2022-09-06T14:08:48.3234652Z",
              "spark_jobs": null
            },
            "text/plain": "StatementMeta(SparkPool1, 0, 9, Finished, Available)"
          },
          "metadata": {}
        }
      ],
      "metadata": {
        "jupyter": {
          "source_hidden": false,
          "outputs_hidden": false
        },
        "nteract": {
          "transient": {
            "deleting": false
          }
        },
        "microsoft": {
          "language": "python"
        }
      },
      "source": [
        "%%pyspark\r\n",
        "spark.read.parquet(\"interactions\").createOrReplaceGlobalTempView(\"interaction\")"
      ]
    },
    {
      "cell_type": "code",
      "execution_count": 7,
      "outputs": [
        {
          "output_type": "display_data",
          "data": {
            "application/vnd.livy.statement-meta+json": {
              "spark_pool": "SparkPool1",
              "session_id": "0",
              "statement_id": 10,
              "state": "finished",
              "livy_statement_state": "available",
              "queued_time": "2022-09-06T14:08:46.795776Z",
              "session_start_time": null,
              "execution_start_time": "2022-09-06T14:08:48.7238721Z",
              "execution_finish_time": "2022-09-06T14:08:50.7702454Z",
              "spark_jobs": null
            },
            "text/plain": "StatementMeta(SparkPool1, 0, 10, Finished, Available)"
          },
          "metadata": {}
        },
        {
          "output_type": "execute_result",
          "data": {
            "application/vnd.synapse.sparksql-result+json": {
              "schema": {
                "type": "struct",
                "fields": [
                  {
                    "name": "person_id",
                    "type": "string",
                    "nullable": true,
                    "metadata": {}
                  },
                  {
                    "name": "interaction_date",
                    "type": "timestamp",
                    "nullable": true,
                    "metadata": {}
                  }
                ]
              },
              "data": [
                [
                  "950fe08b-f320-ed11-b83c-000d3a391b17",
                  "2022-08-15T16:33:29Z"
                ],
                [
                  "950fe08b-f320-ed11-b83c-000d3a391b17",
                  "2022-06-21T10:40:29Z"
                ],
                [
                  "970fe08b-f320-ed11-b83c-000d3a391b17",
                  "2022-09-04T11:52:29Z"
                ],
                [
                  "970fe08b-f320-ed11-b83c-000d3a391b17",
                  "2022-07-08T02:56:29Z"
                ],
                [
                  "970fe08b-f320-ed11-b83c-000d3a391b17",
                  "2022-07-02T21:51:29Z"
                ],
                [
                  "970fe08b-f320-ed11-b83c-000d3a391b17",
                  "2022-07-28T23:16:29Z"
                ],
                [
                  "970fe08b-f320-ed11-b83c-000d3a391b17",
                  "2022-08-26T02:43:29Z"
                ],
                [
                  "990fe08b-f320-ed11-b83c-000d3a391b17",
                  "2022-08-08T09:26:29Z"
                ],
                [
                  "990fe08b-f320-ed11-b83c-000d3a391b17",
                  "2022-08-03T04:21:29Z"
                ],
                [
                  "990fe08b-f320-ed11-b83c-000d3a391b17",
                  "2022-08-05T06:23:29Z"
                ]
              ]
            },
            "text/plain": "<Spark SQL result set with 10 rows and 2 fields>"
          },
          "execution_count": 7,
          "metadata": {}
        }
      ],
      "metadata": {
        "jupyter": {
          "source_hidden": false,
          "outputs_hidden": false
        },
        "nteract": {
          "transient": {
            "deleting": false
          }
        },
        "microsoft": {
          "language": "sparksql"
        },
        "collapsed": false
      },
      "source": [
        "%%sql\r\n",
        "SELECT * FROM global_temp.interaction ORDER BY person_id LIMIT 10"
      ]
    },
    {
      "cell_type": "markdown",
      "metadata": {
        "nteract": {
          "transient": {
            "deleting": false
          }
        }
      },
      "source": [
        "**Join Interactions Dataframe with Account Table based on ID and write it to AccountInteractions Table**"
      ]
    },
    {
      "cell_type": "code",
      "execution_count": 9,
      "outputs": [
        {
          "output_type": "display_data",
          "data": {
            "application/vnd.livy.statement-meta+json": {
              "spark_pool": "SparkPool1",
              "session_id": "0",
              "statement_id": 12,
              "state": "finished",
              "livy_statement_state": "available",
              "queued_time": "2022-09-06T14:11:09.8810733Z",
              "session_start_time": null,
              "execution_start_time": "2022-09-06T14:11:10.7277851Z",
              "execution_finish_time": "2022-09-06T14:11:12.0457317Z",
              "spark_jobs": null
            },
            "text/plain": "StatementMeta(SparkPool1, 0, 12, Finished, Available)"
          },
          "metadata": {}
        }
      ],
      "metadata": {
        "jupyter": {
          "source_hidden": false,
          "outputs_hidden": false
        },
        "nteract": {
          "transient": {
            "deleting": false
          }
        },
        "microsoft": {
          "language": "python"
        }
      },
      "source": [
        "%%pyspark\r\n",
        "#join datasets\r\n",
        "df = spark.sql(\"\"\"\r\n",
        "select b.person_id, a.name, b.number_services, b.max_date as last_service_date\r\n",
        "from\r\n",
        "dataverse_contosodefau_unq35c64bd569f74356a67a71fce467b.account a\r\n",
        "inner join\r\n",
        "(\r\n",
        "    select person_id, count(interaction_date) as number_services, max(interaction_date) as max_date\r\n",
        "    from\r\n",
        "    global_temp.interaction\r\n",
        "    group by person_id\r\n",
        ") b\r\n",
        "on a.id = b.person_id\r\n",
        "\"\"\")"
      ]
    },
    {
      "cell_type": "markdown",
      "metadata": {
        "nteract": {
          "transient": {
            "deleting": false
          }
        }
      },
      "source": [
        "**Write DataFrame to Table acctints**"
      ]
    },
    {
      "cell_type": "code",
      "execution_count": 10,
      "outputs": [
        {
          "output_type": "display_data",
          "data": {
            "application/vnd.livy.statement-meta+json": {
              "spark_pool": "SparkPool1",
              "session_id": "0",
              "statement_id": 13,
              "state": "finished",
              "livy_statement_state": "available",
              "queued_time": "2022-09-06T14:11:16.2146425Z",
              "session_start_time": null,
              "execution_start_time": "2022-09-06T14:11:16.6260221Z",
              "execution_finish_time": "2022-09-06T14:11:22.8277385Z",
              "spark_jobs": null
            },
            "text/plain": "StatementMeta(SparkPool1, 0, 13, Finished, Available)"
          },
          "metadata": {}
        }
      ],
      "metadata": {
        "jupyter": {
          "source_hidden": false,
          "outputs_hidden": false
        },
        "nteract": {
          "transient": {
            "deleting": false
          }
        },
        "microsoft": {
          "language": "python"
        }
      },
      "source": [
        "%%pyspark\r\n",
        "#write Combined Dataset to Table\r\n",
        "df.write.mode(\"overwrite\").saveAsTable(\"default.acctints\")"
      ]
    },
    {
      "cell_type": "code",
      "execution_count": 11,
      "outputs": [
        {
          "output_type": "display_data",
          "data": {
            "application/vnd.livy.statement-meta+json": {
              "spark_pool": "SparkPool1",
              "session_id": "0",
              "statement_id": 14,
              "state": "finished",
              "livy_statement_state": "available",
              "queued_time": "2022-09-06T14:11:23.8238927Z",
              "session_start_time": null,
              "execution_start_time": "2022-09-06T14:11:24.2248491Z",
              "execution_finish_time": "2022-09-06T14:11:26.2058047Z",
              "spark_jobs": null
            },
            "text/plain": "StatementMeta(SparkPool1, 0, 14, Finished, Available)"
          },
          "metadata": {}
        },
        {
          "output_type": "execute_result",
          "data": {
            "application/vnd.synapse.sparksql-result+json": {
              "schema": {
                "type": "struct",
                "fields": [
                  {
                    "name": "person_id",
                    "type": "string",
                    "nullable": true,
                    "metadata": {}
                  },
                  {
                    "name": "name",
                    "type": "string",
                    "nullable": true,
                    "metadata": {}
                  },
                  {
                    "name": "number_services",
                    "type": "long",
                    "nullable": true,
                    "metadata": {}
                  },
                  {
                    "name": "last_service_date",
                    "type": "timestamp",
                    "nullable": true,
                    "metadata": {}
                  }
                ]
              },
              "data": [
                [
                  "970fe08b-f320-ed11-b83c-000d3a391b17",
                  "Litware, Inc. (sample)",
                  "5",
                  "2022-09-04T11:52:29Z"
                ],
                [
                  "990fe08b-f320-ed11-b83c-000d3a391b17",
                  "Adventure Works (sample)",
                  "3",
                  "2022-08-08T09:26:29Z"
                ],
                [
                  "a10fe08b-f320-ed11-b83c-000d3a391b17",
                  "Contoso Pharmaceuticals (sample)",
                  "2",
                  "2022-07-16T11:04:29Z"
                ],
                [
                  "9b0fe08b-f320-ed11-b83c-000d3a391b17",
                  "Fabrikam, Inc. (sample)",
                  "7",
                  "2022-09-04T11:52:29Z"
                ],
                [
                  "950fe08b-f320-ed11-b83c-000d3a391b17",
                  "Fourth Coffee (sample)",
                  "2",
                  "2022-08-15T16:33:29Z"
                ],
                [
                  "a70fe08b-f320-ed11-b83c-000d3a391b17",
                  "Coho Winery (sample)",
                  "1",
                  "2022-08-28T04:45:29Z"
                ]
              ]
            },
            "text/plain": "<Spark SQL result set with 6 rows and 4 fields>"
          },
          "execution_count": 11,
          "metadata": {}
        }
      ],
      "metadata": {
        "jupyter": {
          "source_hidden": false,
          "outputs_hidden": false
        },
        "nteract": {
          "transient": {
            "deleting": false
          }
        },
        "microsoft": {
          "language": "sparksql"
        },
        "collapsed": false
      },
      "source": [
        "%%sql\r\n",
        "SELECT * FROM default.acctints LIMIT 10"
      ]
    }
  ]
}